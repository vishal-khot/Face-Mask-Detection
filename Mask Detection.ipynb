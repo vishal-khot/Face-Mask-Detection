{
 "cells": [
  {
   "cell_type": "markdown",
   "id": "1bf61e99",
   "metadata": {},
   "source": [
    "# Data Preprocessing"
   ]
  },
  {
   "cell_type": "code",
   "execution_count": 1,
   "id": "9ac9c425",
   "metadata": {},
   "outputs": [],
   "source": [
    "import numpy as np, cv2, os, tensorflow as tf, pandas as pd"
   ]
  },
  {
   "cell_type": "code",
   "execution_count": 2,
   "id": "acff3cdb",
   "metadata": {},
   "outputs": [],
   "source": [
    "image_size = 125"
   ]
  },
  {
   "cell_type": "code",
   "execution_count": 3,
   "id": "7ada173e",
   "metadata": {},
   "outputs": [],
   "source": [
    "classifier = cv2.CascadeClassifier(\"haarcascade_frontalface_default.xml\")"
   ]
  },
  {
   "cell_type": "markdown",
   "id": "f9c3b458",
   "metadata": {},
   "source": [
    "Training Set"
   ]
  },
  {
   "cell_type": "code",
   "execution_count": 4,
   "id": "b41f2462",
   "metadata": {},
   "outputs": [],
   "source": [
    "path = os.path.join(os.path.dirname(os.getcwd()), 'Datasets\\Face Mask Dataset\\Train')\n",
    "\n",
    "categories = os.listdir(path)\n",
    "labels = [i for i in range(len(categories))]\n",
    "label = dict(zip(categories, labels))"
   ]
  },
  {
   "cell_type": "code",
   "execution_count": 5,
   "id": "a3e93207",
   "metadata": {},
   "outputs": [
    {
     "name": "stdout",
     "output_type": "stream",
     "text": [
      "{'WithMask': 0, 'WithoutMask': 1}\n"
     ]
    }
   ],
   "source": [
    "print(label)"
   ]
  },
  {
   "cell_type": "code",
   "execution_count": 6,
   "id": "d8972383",
   "metadata": {},
   "outputs": [],
   "source": [
    "images_train = list()\n",
    "target_train = list()\n",
    "\n",
    "for category in categories:\n",
    "    folder_path = os.path.join(path, category)\n",
    "    imgs = os.listdir(folder_path)\n",
    "    for img in imgs:\n",
    "        img_path = os.path.join(folder_path, img)\n",
    "        i = cv2.imread(img_path)                         \n",
    "        i = cv2.cvtColor(i, cv2.COLOR_BGR2GRAY)                # Converting images to grayscale\n",
    "        i = cv2.resize(i, (image_size, image_size))\n",
    "        images_train.append(i)\n",
    "        target_train.append(label[category])"
   ]
  },
  {
   "cell_type": "code",
   "execution_count": 7,
   "id": "86c84bfb",
   "metadata": {},
   "outputs": [],
   "source": [
    "images_train = np.array(images_train) / 255\n",
    "images_train = np.reshape(images_train, (len(images_train), image_size, image_size, 1))   # Resizing the array to a 4-D array to match the input of the neural network\n",
    "target_train = np.array(target_train)"
   ]
  },
  {
   "cell_type": "code",
   "execution_count": 8,
   "id": "74e5a87b",
   "metadata": {},
   "outputs": [
    {
     "name": "stdout",
     "output_type": "stream",
     "text": [
      "(10000, 125, 125, 1)\n"
     ]
    }
   ],
   "source": [
    "print(images_train.shape)"
   ]
  },
  {
   "cell_type": "markdown",
   "id": "8ae5d7af",
   "metadata": {},
   "source": [
    "Test Set"
   ]
  },
  {
   "cell_type": "code",
   "execution_count": 9,
   "id": "20b26627",
   "metadata": {},
   "outputs": [],
   "source": [
    "path = os.path.join(os.path.dirname(os.getcwd()), 'Datasets\\Face Mask Dataset\\Test')\n",
    "\n",
    "images_test = list()\n",
    "target_test = list()\n",
    "\n",
    "for category in categories:\n",
    "    folder_path = os.path.join(path, category)\n",
    "    imgs = os.listdir(folder_path)\n",
    "    for img in imgs:\n",
    "        img_path = os.path.join(folder_path, img)\n",
    "        i = cv2.imread(img_path)\n",
    "        i = cv2.cvtColor(i, cv2.COLOR_BGR2GRAY)\n",
    "        i = cv2.resize(i, (image_size, image_size))\n",
    "        images_test.append(i)\n",
    "        target_test.append(label[category])\n",
    "\n",
    "images_test = np.array(images_test) / 255\n",
    "images_test = np.reshape(images_test, (len(images_test), image_size, image_size, 1))   # Resizing the array to a 4-D array to match the input of the neural network\n",
    "target_test = np.array(target_test)"
   ]
  },
  {
   "cell_type": "code",
   "execution_count": 10,
   "id": "453d2212",
   "metadata": {},
   "outputs": [
    {
     "name": "stdout",
     "output_type": "stream",
     "text": [
      "(992, 125, 125, 1)\n"
     ]
    }
   ],
   "source": [
    "print(images_test.shape)"
   ]
  },
  {
   "cell_type": "markdown",
   "id": "84dfab58",
   "metadata": {},
   "source": [
    "Validation Set"
   ]
  },
  {
   "cell_type": "code",
   "execution_count": 11,
   "id": "e9f38b1e",
   "metadata": {},
   "outputs": [],
   "source": [
    "path = os.path.join(os.path.dirname(os.getcwd()), 'Datasets\\Face Mask Dataset\\Validation')\n",
    "\n",
    "images_validation = list()\n",
    "target_validation = list()\n",
    "\n",
    "for category in categories:\n",
    "    folder_path = os.path.join(path, category)\n",
    "    imgs = os.listdir(folder_path)\n",
    "    for img in imgs:\n",
    "        img_path = os.path.join(folder_path, img)\n",
    "        i = cv2.imread(img_path)             \n",
    "        i = cv2.cvtColor(i, cv2.COLOR_BGR2GRAY)                                     \n",
    "        i = cv2.resize(i, (image_size, image_size))\n",
    "        images_validation.append(i)\n",
    "        target_validation.append(label[category])\n",
    "\n",
    "images_validation = np.array(images_validation) / 255\n",
    "images_validation = np.reshape(images_validation, (len(images_validation), image_size, image_size, 1))   # Resizing the array to a 4-D array to match the input of the neural network\n",
    "target_validation = np.array(target_validation)"
   ]
  },
  {
   "cell_type": "code",
   "execution_count": 12,
   "id": "91bb1e15",
   "metadata": {},
   "outputs": [
    {
     "name": "stdout",
     "output_type": "stream",
     "text": [
      "(800, 125, 125, 1)\n"
     ]
    }
   ],
   "source": [
    "print(images_validation.shape)"
   ]
  },
  {
   "cell_type": "code",
   "execution_count": 13,
   "id": "e455c514",
   "metadata": {},
   "outputs": [],
   "source": [
    "from keras.utils import np_utils\n",
    "target_train = np_utils.to_categorical(target_train)\n",
    "target_test = np_utils.to_categorical(target_test)\n",
    "target_validation = np_utils.to_categorical(target_validation)"
   ]
  },
  {
   "cell_type": "markdown",
   "id": "2804da72",
   "metadata": {},
   "source": [
    "# Convolutional Neural Network Architecture"
   ]
  },
  {
   "cell_type": "code",
   "execution_count": 14,
   "id": "ecc18277",
   "metadata": {},
   "outputs": [],
   "source": [
    "from keras.models import Sequential\n",
    "from keras.layers import Dense, Conv2D, MaxPooling2D, Flatten, Dropout\n",
    "from keras.callbacks import EarlyStopping"
   ]
  },
  {
   "cell_type": "code",
   "execution_count": 15,
   "id": "3bbe2b4f",
   "metadata": {},
   "outputs": [],
   "source": [
    "model = Sequential()\n",
    "\n",
    "# First CNN Layer\n",
    "model.add(Conv2D(filters = 200, kernel_size = (4, 4), activation = 'relu', input_shape = (image_size, image_size, 1)))\n",
    "model.add(MaxPooling2D(pool_size = (2, 2)))\n",
    "\n",
    "# Second CNN Layer\n",
    "model.add(Conv2D(filters = 100, kernel_size = (3, 3), activation = 'relu'))\n",
    "model.add(MaxPooling2D(pool_size = (2, 2)))\n",
    "\n",
    "model.add(Flatten())\n",
    "model.add(Dropout(0.3))\n",
    "\n",
    "# Dense layer with 50 neurons\n",
    "model.add(Dense(50, activation = 'relu'))\n",
    "\n",
    "# Final layer with 2 neurons corresponding to the two categories\n",
    "model.add(Dense(2, activation='softmax'))\n",
    "\n",
    "model.compile(loss = 'categorical_crossentropy', optimizer = 'adam', metrics = ['accuracy'])"
   ]
  },
  {
   "cell_type": "code",
   "execution_count": 16,
   "id": "e2ac0c11",
   "metadata": {},
   "outputs": [
    {
     "name": "stdout",
     "output_type": "stream",
     "text": [
      "Model: \"sequential\"\n",
      "_________________________________________________________________\n",
      "Layer (type)                 Output Shape              Param #   \n",
      "=================================================================\n",
      "conv2d (Conv2D)              (None, 122, 122, 200)     3400      \n",
      "_________________________________________________________________\n",
      "max_pooling2d (MaxPooling2D) (None, 61, 61, 200)       0         \n",
      "_________________________________________________________________\n",
      "conv2d_1 (Conv2D)            (None, 59, 59, 100)       180100    \n",
      "_________________________________________________________________\n",
      "max_pooling2d_1 (MaxPooling2 (None, 29, 29, 100)       0         \n",
      "_________________________________________________________________\n",
      "flatten (Flatten)            (None, 84100)             0         \n",
      "_________________________________________________________________\n",
      "dropout (Dropout)            (None, 84100)             0         \n",
      "_________________________________________________________________\n",
      "dense (Dense)                (None, 50)                4205050   \n",
      "_________________________________________________________________\n",
      "dense_1 (Dense)              (None, 2)                 102       \n",
      "=================================================================\n",
      "Total params: 4,388,652\n",
      "Trainable params: 4,388,652\n",
      "Non-trainable params: 0\n",
      "_________________________________________________________________\n",
      "None\n"
     ]
    }
   ],
   "source": [
    "print(model.summary())"
   ]
  },
  {
   "cell_type": "code",
   "execution_count": 17,
   "id": "6c843736",
   "metadata": {},
   "outputs": [],
   "source": [
    "early_stop = EarlyStopping(monitor='val_loss', mode='min', verbose=1 , patience=5, restore_best_weights=True)"
   ]
  },
  {
   "cell_type": "code",
   "execution_count": 18,
   "id": "2de3b9b7",
   "metadata": {},
   "outputs": [
    {
     "name": "stdout",
     "output_type": "stream",
     "text": [
      "Epoch 1/25\n",
      "313/313 [==============================] - 119s 325ms/step - loss: 0.5631 - accuracy: 0.7375 - val_loss: 0.3036 - val_accuracy: 0.9613\n",
      "Epoch 2/25\n",
      "313/313 [==============================] - 95s 305ms/step - loss: 0.2774 - accuracy: 0.9584 - val_loss: 0.2080 - val_accuracy: 0.9688\n",
      "Epoch 3/25\n",
      "313/313 [==============================] - 96s 308ms/step - loss: 0.1993 - accuracy: 0.9723 - val_loss: 0.1771 - val_accuracy: 0.9613\n",
      "Epoch 4/25\n",
      "313/313 [==============================] - 96s 306ms/step - loss: 0.1428 - accuracy: 0.9798 - val_loss: 0.1557 - val_accuracy: 0.9638\n",
      "Epoch 5/25\n",
      "313/313 [==============================] - 96s 308ms/step - loss: 0.1197 - accuracy: 0.9811 - val_loss: 0.1248 - val_accuracy: 0.9650\n",
      "Epoch 6/25\n",
      "313/313 [==============================] - 96s 306ms/step - loss: 0.0864 - accuracy: 0.9882 - val_loss: 0.1137 - val_accuracy: 0.9725\n",
      "Epoch 7/25\n",
      "313/313 [==============================] - 96s 306ms/step - loss: 0.0699 - accuracy: 0.9871 - val_loss: 0.1051 - val_accuracy: 0.9750\n",
      "Epoch 8/25\n",
      "313/313 [==============================] - 96s 306ms/step - loss: 0.0568 - accuracy: 0.9909 - val_loss: 0.1090 - val_accuracy: 0.9638\n",
      "Epoch 9/25\n",
      "313/313 [==============================] - 96s 306ms/step - loss: 0.0467 - accuracy: 0.9927 - val_loss: 0.0979 - val_accuracy: 0.9700\n",
      "Epoch 10/25\n",
      "313/313 [==============================] - 98s 312ms/step - loss: 0.0339 - accuracy: 0.9950 - val_loss: 0.1096 - val_accuracy: 0.9712\n",
      "Epoch 11/25\n",
      "313/313 [==============================] - 96s 308ms/step - loss: 0.0442 - accuracy: 0.9906 - val_loss: 0.1038 - val_accuracy: 0.9700\n",
      "Epoch 12/25\n",
      "313/313 [==============================] - 98s 313ms/step - loss: 0.0269 - accuracy: 0.9958 - val_loss: 0.1051 - val_accuracy: 0.9712\n",
      "Epoch 13/25\n",
      "313/313 [==============================] - 98s 314ms/step - loss: 0.0201 - accuracy: 0.9975 - val_loss: 0.1117 - val_accuracy: 0.9750\n",
      "Epoch 14/25\n",
      "313/313 [==============================] - 98s 312ms/step - loss: 0.0129 - accuracy: 0.9995 - val_loss: 0.1060 - val_accuracy: 0.9725\n",
      "Restoring model weights from the end of the best epoch.\n",
      "Epoch 00014: early stopping\n"
     ]
    }
   ],
   "source": [
    "history = model.fit(images_train, target_train, epochs = 25, validation_data = (images_validation, target_validation), \n",
    "          callbacks = [early_stop], batch_size = 32)"
   ]
  },
  {
   "cell_type": "code",
   "execution_count": 19,
   "id": "f8f67845",
   "metadata": {
    "scrolled": true
   },
   "outputs": [
    {
     "name": "stdout",
     "output_type": "stream",
     "text": [
      "31/31 [==============================] - 3s 107ms/step - loss: 0.0845 - accuracy: 0.9768\n"
     ]
    },
    {
     "data": {
      "text/plain": [
       "[0.08446254581212997, 0.9768145084381104]"
      ]
     },
     "execution_count": 19,
     "metadata": {},
     "output_type": "execute_result"
    }
   ],
   "source": [
    "model.evaluate(images_test, target_test)"
   ]
  },
  {
   "cell_type": "code",
   "execution_count": 20,
   "id": "f06ab6a6",
   "metadata": {},
   "outputs": [
    {
     "data": {
      "text/plain": [
       "<AxesSubplot:>"
      ]
     },
     "execution_count": 20,
     "metadata": {},
     "output_type": "execute_result"
    },
    {
     "data": {
      "image/png": "[encoded data removed]",
      "text/plain": [
       "<Figure size 432x288 with 1 Axes>"
      ]
     },
     "metadata": {
      "needs_background": "light"
     },
     "output_type": "display_data"
    }
   ],
   "source": [
    "pd.DataFrame(history.history).plot()"
   ]
  },
  {
   "cell_type": "code",
   "execution_count": 21,
   "id": "f953cb16",
   "metadata": {},
   "outputs": [],
   "source": [
    "model.save('mask_detection_model.h5')"
   ]
  },
  {
   "cell_type": "markdown",
   "id": "5bdd43fd",
   "metadata": {},
   "source": [
    "# Face Mask Detection"
   ]
  },
  {
   "cell_type": "code",
   "execution_count": 22,
   "id": "e956fdcd",
   "metadata": {},
   "outputs": [],
   "source": [
    "from keras.models import load_model\n",
    "model = load_model('mask_detection_model.h5')"
   ]
  },
  {
   "cell_type": "code",
   "execution_count": 23,
   "id": "2b45786f",
   "metadata": {},
   "outputs": [
    {
     "name": "stdout",
     "output_type": "stream",
     "text": [
      "{0: 'WithMask', 1: 'WithoutMask'}\n"
     ]
    }
   ],
   "source": [
    "label_inv = {v: k for k, v in label.items()}\n",
    "print(label_inv)"
   ]
  },
  {
   "cell_type": "code",
   "execution_count": 24,
   "id": "af63691b",
   "metadata": {},
   "outputs": [],
   "source": [
    "video_source = cv2.VideoCapture(0)\n",
    "color = {0: (0, 165, 255), 1: (0, 0, 255), 2: (0, 255, 0)}                 # BGR format\n",
    "#              Orange             Red            Green"
   ]
  },
  {
   "cell_type": "code",
   "execution_count": 25,
   "id": "fa906c79",
   "metadata": {
    "scrolled": true
   },
   "outputs": [],
   "source": [
    "while True:\n",
    "    ret, frame = video_source.read()\n",
    "    gray_frame = cv2.cvtColor(frame, cv2.COLOR_BGR2GRAY)\n",
    "    faces = classifier.detectMultiScale(gray_frame,scaleFactor = 1.1, minNeighbors = 5, minSize = (100, 100))\n",
    "    \n",
    "    for (x, y, w, h) in faces:\n",
    "        \n",
    "        img = gray_frame[y: y+h, x: x+w]\n",
    "        img = cv2.resize(img, (image_size, image_size))\n",
    "        img = np.array(img) / 255\n",
    "        img = np.reshape(img, (1, image_size, image_size, 1))\n",
    "        prediction = model.predict(img)\n",
    "        result = np.argmax(prediction, axis = 1)[0]\n",
    "        \n",
    "        cv2.rectangle(frame, (x, y), (x+w, y+h), color[result], 2)\n",
    "        cv2.rectangle(frame, (x, y-40), (x+w, y), color[result], -1)\n",
    "        cv2.putText(img = frame, text = label_inv[result], org = (x, y-10), fontFace = cv2.FONT_HERSHEY_SIMPLEX, \n",
    "                fontScale = 0.8, color = (255, 255, 255), thickness = 2)\n",
    "\n",
    "    cv2.imshow('Live from webcam 1', frame)\n",
    "    key = cv2.waitKey(1)\n",
    "    if key == 27:\n",
    "        break\n",
    "        \n",
    "cv2.destroyAllWindows()\n",
    "video_source.release()"
   ]
  },
  {
   "cell_type": "markdown",
   "id": "b6fc9727",
   "metadata": {},
   "source": [
    "# Test Image"
   ]
  },
  {
   "cell_type": "code",
   "execution_count": 26,
   "id": "9cbdc0d8",
   "metadata": {},
   "outputs": [],
   "source": [
    "test_image = cv2.imread('face-mask-test.jpg')\n",
    "test_image_gray = cv2.cvtColor(test_image, cv2.COLOR_BGR2GRAY)\n",
    "faces = classifier.detectMultiScale(test_image_gray,scaleFactor = 1.1, minNeighbors = 5, minSize = (100, 100))\n",
    "\n",
    "for (x, y, w, h) in faces:\n",
    "\n",
    "    img = test_image_gray[y: y+h, x: x+w]\n",
    "    img = cv2.resize(img, (image_size, image_size))\n",
    "    img = np.array(img) / 255\n",
    "    img = np.reshape(img, (1, image_size, image_size, 1))\n",
    "    prediction = model.predict(img)\n",
    "    result = np.argmax(prediction, axis = 1)[0]\n",
    "\n",
    "    cv2.rectangle(test_image, (x, y), (x+w, y+h), color[result], 2)\n",
    "    cv2.rectangle(test_image, (x, y-40), (x+w, y), color[result], -1)\n",
    "    cv2.putText(img = test_image, text = label_inv[result], org = (x, y-10), fontFace = cv2.FONT_HERSHEY_SIMPLEX, \n",
    "            fontScale = 0.8, color = (255, 255, 255), thickness = 2)\n",
    "\n",
    "while True:\n",
    "    cv2.imshow('Test Image', test_image)\n",
    "    key = cv2.waitKey(1)\n",
    "    if key == 27:\n",
    "        break\n",
    "\n",
    "cv2.destroyAllWindows()"
   ]
  }
 ],
 "metadata": {
  "kernelspec": {
   "display_name": "Python 3 (ipykernel)",
   "language": "python",
   "name": "python3"
  },
  "language_info": {
   "codemirror_mode": {
    "name": "ipython",
    "version": 3
   },
   "file_extension": ".py",
   "mimetype": "text/x-python",
   "name": "python",
   "nbconvert_exporter": "python",
   "pygments_lexer": "ipython3",
   "version": "3.9.6"
  }
 },
 "nbformat": 4,
 "nbformat_minor": 5
}
